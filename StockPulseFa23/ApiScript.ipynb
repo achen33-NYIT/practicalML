{
 "cells": [
  {
   "cell_type": "code",
   "execution_count": null,
   "id": "af684262",
   "metadata": {},
   "outputs": [],
   "source": [
    "############ YAHOO FINANCE API #########"
   ]
  },
  {
   "cell_type": "code",
   "execution_count": 23,
   "id": "37818ead",
   "metadata": {},
   "outputs": [
    {
     "name": "stdout",
     "output_type": "stream",
     "text": [
      "Error fetching data for NAUKRI.NS: An error occurred. HTTP Code: 403.\n"
     ]
    }
   ],
   "source": [
    "\n",
    "def fetch_stock_data(symbol, interval='2m', range_span='1d'):\n",
    "    \"\"\"\n",
    "    Fetches stock data for a given symbol from Yahoo Finance.\n",
    "\n",
    "    :param symbol: The stock symbol (e.g., 'NAUKRI.NS')\n",
    "    :param interval: The interval for the stock data (default is '2m')\n",
    "    :param range_span: The date range for the stock data (default is '1d')\n",
    "    :return: A dictionary with stock data.\n",
    "    \"\"\"\n",
    "    YAHOO_FINANCE_URL = f\"https://query1.finance.yahoo.com/v8/finance/chart/{symbol}\"\n",
    "\n",
    "    params = {\n",
    "        \"region\": \"US\",\n",
    "        \"lang\": \"en-US\",\n",
    "        \"includePrePost\": \"false\",\n",
    "        \"interval\": interval,\n",
    "        \"useYfid\": \"true\",\n",
    "        \"range\": range_span,\n",
    "        \"corsDomain\": \"finance.yahoo.com\",\n",
    "        \".tsrc\": \"finance\"\n",
    "    }\n",
    "\n",
    "    response = requests.get(YAHOO_FINANCE_URL, params=params)\n",
    "    status_code = response.status_code\n",
    "\n",
    "    if status_code != 200:\n",
    "        raise RuntimeError(f\"An error occurred. HTTP Code: {status_code}.\")\n",
    "    else:\n",
    "        return response.json()\n",
    "\n",
    "# Example usage\n",
    "stock_symbol = 'NAUKRI.NS'  # Example stock symbol\n",
    "\n",
    "try:\n",
    "    stock_data = fetch_stock_data(stock_symbol)\n",
    "    # Process and print relevant information from stock_data\n",
    "    print(stock_data)\n",
    "except RuntimeError as e:\n",
    "    print(f\"Error fetching data for {stock_symbol}: {e}\")\n",
    "\n"
   ]
  },
  {
   "cell_type": "code",
   "execution_count": null,
   "id": "d80e4038",
   "metadata": {},
   "outputs": [],
   "source": [
    "############ ALPHA VANTAGE API #############"
   ]
  },
  {
   "cell_type": "code",
   "execution_count": null,
   "id": "60c2a62e",
   "metadata": {},
   "outputs": [
    {
     "name": "stdout",
     "output_type": "stream",
     "text": [
      "[{'symbol': 'AAPL', 'data': {'1. open': '191.49', '2. high': '192.93', '3. low': '190.825', '4. close': '191.31', '5. adjusted close': '191.31', '6. volume': '39269515', '7. dividend amount': '0.0000', '8. split coefficient': '1.0'}}, {'symbol': 'META', 'data': {'1. open': '339.21', '2. high': '342.92', '3. low': '338.58', '4. close': '341.49', '5. adjusted close': '341.49', '6. volume': '10691386', '7. dividend amount': '0.0000', '8. split coefficient': '1.0'}}, {'symbol': 'TSLA', 'data': {'1. open': '242.04', '2. high': '244.01', '3. low': '231.4', '4. close': '234.21', '5. adjusted close': '234.21', '6. volume': '117754574', '7. dividend amount': '0.0000', '8. split coefficient': '1.0'}}]\n"
     ]
    }
   ],
   "source": [
    "from alpha_vantage.timeseries import TimeSeries\n",
    "from datetime import datetime\n",
    "from config import ALPHA_VANTAGE_API_KEY  \n",
    "\n",
    "def get_stock_data(symbol):\n",
    "    app = TimeSeries('ALPHA_VANTAGE_API_KEY')\n",
    "    data, meta_data = app.get_daily_adjusted(symbol, outputsize='compact')\n",
    "\n",
    "    today = datetime.now().strftime('%Y-%m-%d')  # Get today's date in YYYY-MM-DD format\n",
    "\n",
    "    if today in data:\n",
    "        return {\n",
    "            'symbol': symbol,\n",
    "            'data': data[today]\n",
    "        }\n",
    "    else:\n",
    "        print(f\"No data available for {symbol} on {today}\")\n",
    "        return None\n",
    "\n",
    "# Retrieve and store stock data for AAPL, META, and TSLA in an array\n",
    "stock_prices_today = []\n",
    "\n",
    "stock_symbols = ['AAPL', 'META', 'TSLA']\n",
    "for symbol in stock_symbols:\n",
    "    stock_data = get_stock_data(symbol)\n",
    "    if stock_data is not None:\n",
    "        stock_prices_today.append(stock_data)\n",
    "\n",
    "# Displaying the array of stock prices\n",
    "print(stock_prices_today)\n"
   ]
  },
  {
   "cell_type": "code",
   "execution_count": null,
   "id": "dbdf5fad",
   "metadata": {},
   "outputs": [],
   "source": []
  }
 ],
 "metadata": {
  "kernelspec": {
   "display_name": "Python 3 (ipykernel)",
   "language": "python",
   "name": "python3"
  },
  "language_info": {
   "codemirror_mode": {
    "name": "ipython",
    "version": 3
   },
   "file_extension": ".py",
   "mimetype": "text/x-python",
   "name": "python",
   "nbconvert_exporter": "python",
   "pygments_lexer": "ipython3",
   "version": "3.10.12"
  }
 },
 "nbformat": 4,
 "nbformat_minor": 5
}
