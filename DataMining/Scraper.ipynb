{
 "cells": [
  {
   "cell_type": "code",
   "execution_count": 2,
   "id": "34316406",
   "metadata": {},
   "outputs": [
    {
     "name": "stdout",
     "output_type": "stream",
     "text": [
      "312\n"
     ]
    }
   ],
   "source": [
    "import requests\n",
    "from lxml import etree\n",
    " \n",
    "page = requests.get('https://www2.eecs.berkeley.edu/Faculty/Lists/list.html?_ga=2.265667791.114403426.1690419501-1056980878.1690419501#Z')\n",
    "html_content = page.content\n",
    "\n",
    "html_tree = etree.HTML(html_content)\n",
    "xpath_expression = '//a/@href'\n",
    "links = html_tree.xpath(xpath_expression)\n",
    "\n",
    "bio_urls = []\n",
    "substring = \"/Faculty/Homepages/\"\n",
    "for link in links:\n",
    "    if substring in link:\n",
    "        bio_url = \"https://www2.eecs.berkeley.edu/\" + link\n",
    "        bio_urls.append(bio_url)\n",
    "print(len(bio_urls))\n"
   ]
  },
  {
   "cell_type": "code",
   "execution_count": 6,
   "id": "81198674",
   "metadata": {},
   "outputs": [],
   "source": [
    "file_handle_text = open(\"bio_urls.txt\", \"w\")\n",
    "for idx, bio_url in enumerate(bio_urls):\n",
    "    if idx < len(bio_urls) - 1:\n",
    "        file_handle_text.write(f\"{idx + 1}. {bio_url}\\n\")\n",
    "    else:\n",
    "        file_handle_text.write(f\"{idx + 1}. {bio_url}\")\n",
    "    \n",
    "file_handle_text.close()"
   ]
  },
  {
   "cell_type": "code",
   "execution_count": null,
   "id": "bcd4ebd4",
   "metadata": {},
   "outputs": [],
   "source": []
  }
 ],
 "metadata": {
  "kernelspec": {
   "display_name": "Python 3 (ipykernel)",
   "language": "python",
   "name": "python3"
  },
  "language_info": {
   "codemirror_mode": {
    "name": "ipython",
    "version": 3
   },
   "file_extension": ".py",
   "mimetype": "text/x-python",
   "name": "python",
   "nbconvert_exporter": "python",
   "pygments_lexer": "ipython3",
   "version": "3.10.6"
  }
 },
 "nbformat": 4,
 "nbformat_minor": 5
}
