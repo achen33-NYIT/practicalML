{
 "cells": [
  {
   "cell_type": "code",
   "execution_count": 22,
   "id": "46778cc2",
   "metadata": {},
   "outputs": [
    {
     "name": "stdout",
     "output_type": "stream",
     "text": [
      "forward pass result: 0.3599\n",
      "Gradients with respect to w:\n",
      "dw1: -0.2355\n",
      "dw2: 0.3875\n"
     ]
    }
   ],
   "source": [
    "import numpy as np\n",
    "\n",
    "def calculate_gradients(x1, x2, w1, w2):\n",
    "    b1 = x1 * w1\n",
    "    a1 = np.sin(b1)\n",
    "    z1 = a1**2  # sin^2(x1w1)\n",
    "    \n",
    "    z2 = x2 * w2\n",
    "    a2 = np.cos(z2) # cos(x2w2)\n",
    "    \n",
    "    f = 1 / (2 + z1 + a2)\n",
    "    print(\"forward pass result:\", round(f, 4))\n",
    "    \n",
    "    # Gradient of f with respect to z1 and a2\n",
    "    df_dz1 = -1 / (2 + z1 + a2)**2\n",
    "    df_da2 = -1 / (2 + z1 + a2)**2\n",
    "    \n",
    "    # Gradient computation for z1\n",
    "    dz1_da1 = 2 * a1\n",
    "    da1_db1 = np.cos(b1)\n",
    "    db1_dw1 = x1\n",
    "    df_dw1 = df_dz1 * dz1_da1 * da1_db1 * db1_dw1\n",
    "    \n",
    "    # Gradient computation for a2\n",
    "    da2_dz2 = -np.sin(z2)\n",
    "    dz2_dw2 = x2\n",
    "    df_dw2 = df_da2 * da2_dz2 * dz2_dw2\n",
    "    \n",
    "    print(\"Gradients with respect to w1,w2:\")\n",
    "    print(\"dw1:\", round(df_dw1, 4))\n",
    "    print(\"dw2:\", round(df_dw2, 4))\n",
    "\n",
    "# Values\n",
    "x1, x2 = 2, 3\n",
    "w1, w2 = 0.5, 0.5\n",
    "\n",
    "calculate_gradients(x1, x2, w1, w2)\n"
   ]
  },
  {
   "cell_type": "code",
   "execution_count": 5,
   "id": "b677c119",
   "metadata": {},
   "outputs": [
    {
     "name": "stdout",
     "output_type": "stream",
     "text": [
      "Forward pass result: 1.5226\n",
      "Gradient with respect to W sub i,j\n",
      "[[0.1432 0.1719 0.2005]\n",
      " [0.1457 0.1748 0.204 ]\n",
      " [0.1241 0.1489 0.1738]]\n"
     ]
    }
   ],
   "source": [
    "import numpy as np\n",
    "\n",
    "def sigmoid(z):\n",
    "    return 1 / (1 + np.exp(-z))\n",
    "\n",
    "def sigmoid_derivative(z):\n",
    "    a = sigmoid(z)\n",
    "    return a * (1 - a)\n",
    "\n",
    "def calculate_gradients(x, W):\n",
    "    \n",
    "    # Forward pass\n",
    "    # Step 1: Matrix multiplication\n",
    "    z = np.dot(W, x)\n",
    "    \n",
    "    # Step 2: Sigmoid activation\n",
    "    a = sigmoid(z)\n",
    "    \n",
    "    # Step 3: Squared norm\n",
    "    f = np.sum(a ** 2)\n",
    "    print(\"Forward pass result:\", round(f, 4))\n",
    "    \n",
    "    # Backward pass\n",
    "    # Gradient computation of f with respect to a\n",
    "    df_da = 2 * a\n",
    "    \n",
    "    # Gradient computation of a with respect to z\n",
    "    da_dz = sigmoid_derivative(z)\n",
    "    \n",
    "    # Gradient computation of f with respect to z\n",
    "    df_dz = df_da * da_dz\n",
    "    \n",
    "    # Gradient computation of z with respect to W\n",
    "    dz_dW = x\n",
    "    \n",
    "    # vector vector multiplication\n",
    "    df_dW = np.outer(df_dz, dz_dW)\n",
    "    \n",
    "    print(\"Gradient with respect to W sub i,j\")\n",
    "    print(np.round(df_dW, 4))\n",
    "\n",
    "# Test\n",
    "x = np.array([0.5, 0.6, 0.7])\n",
    "W = np.array([\n",
    "    [0.1, 0.2, 0.3],\n",
    "    [0.4, 0.5, 0.6],\n",
    "    [0.7, 0.8, 0.9]\n",
    "])\n",
    "\n",
    "calculate_gradients(x, W)\n"
   ]
  }
 ],
 "metadata": {
  "kernelspec": {
   "display_name": "Python 3 (ipykernel)",
   "language": "python",
   "name": "python3"
  },
  "language_info": {
   "codemirror_mode": {
    "name": "ipython",
    "version": 3
   },
   "file_extension": ".py",
   "mimetype": "text/x-python",
   "name": "python",
   "nbconvert_exporter": "python",
   "pygments_lexer": "ipython3",
   "version": "3.10.12"
  }
 },
 "nbformat": 4,
 "nbformat_minor": 5
}
